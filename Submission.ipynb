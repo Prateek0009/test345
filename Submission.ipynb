{
 "cells": [
  {
   "cell_type": "code",
   "execution_count": 86,
   "id": "d6363ae3",
   "metadata": {},
   "outputs": [
    {
     "name": "stdout",
     "output_type": "stream",
     "text": [
      "Note: you may need to restart the kernel to use updated packages.Collecting tabulate\n",
      "\n",
      "  Downloading tabulate-0.8.9-py3-none-any.whl (25 kB)\n",
      "Installing collected packages: tabulate\n",
      "Successfully installed tabulate-0.8.9\n"
     ]
    }
   ],
   "source": [
    "pip install tabulate"
   ]
  },
  {
   "cell_type": "code",
   "execution_count": 64,
   "id": "3597fd3d",
   "metadata": {},
   "outputs": [],
   "source": [
    "import mysql.connector as c"
   ]
  },
  {
   "cell_type": "code",
   "execution_count": 65,
   "id": "a18ba158",
   "metadata": {},
   "outputs": [],
   "source": [
    "import pandas as pd"
   ]
  },
  {
   "cell_type": "code",
   "execution_count": 73,
   "id": "dd749db1",
   "metadata": {},
   "outputs": [],
   "source": [
    "connection = c.connect(host= \"localhost\",user= \"root\", database = \"multi_spe_hospital\")"
   ]
  },
  {
   "cell_type": "code",
   "execution_count": 74,
   "id": "e1c0e5f4",
   "metadata": {},
   "outputs": [],
   "source": [
    "cursor = connection.cursor()"
   ]
  },
  {
   "cell_type": "code",
   "execution_count": 75,
   "id": "084b3cd6",
   "metadata": {},
   "outputs": [],
   "source": [
    "query2 = \"select * from patients\""
   ]
  },
  {
   "cell_type": "code",
   "execution_count": 76,
   "id": "f7bd2ad3",
   "metadata": {},
   "outputs": [],
   "source": [
    "# executing cursor\n",
    "cursor.execute(query2)"
   ]
  },
  {
   "cell_type": "code",
   "execution_count": 77,
   "id": "1ec6f2dd",
   "metadata": {},
   "outputs": [
    {
     "name": "stdout",
     "output_type": "stream",
     "text": [
      "Total Number of rows in table: 5\n"
     ]
    }
   ],
   "source": [
    "# fetching tables\n",
    "table_rows = cursor.fetchall()\n",
    "print(\"Total Number of rows in table:\", cursor.rowcount)"
   ]
  },
  {
   "cell_type": "code",
   "execution_count": 78,
   "id": "fb0ef26f",
   "metadata": {},
   "outputs": [
    {
     "data": {
      "text/html": [
       "<div>\n",
       "<style scoped>\n",
       "    .dataframe tbody tr th:only-of-type {\n",
       "        vertical-align: middle;\n",
       "    }\n",
       "\n",
       "    .dataframe tbody tr th {\n",
       "        vertical-align: top;\n",
       "    }\n",
       "\n",
       "    .dataframe thead th {\n",
       "        text-align: right;\n",
       "    }\n",
       "</style>\n",
       "<table border=\"1\" class=\"dataframe\">\n",
       "  <thead>\n",
       "    <tr style=\"text-align: right;\">\n",
       "      <th></th>\n",
       "      <th>CUSTOMER_NAME</th>\n",
       "      <th>CUSTOMER_ID</th>\n",
       "      <th>CUSTOMER_OPEN_DATE</th>\n",
       "      <th>LAST_CONSULTED_DATE</th>\n",
       "      <th>VACCINATION_TYPE</th>\n",
       "      <th>DOCTOR_CONSULTED</th>\n",
       "      <th>STATE</th>\n",
       "      <th>COUNTRY</th>\n",
       "      <th>DOB</th>\n",
       "      <th>FLAG</th>\n",
       "    </tr>\n",
       "  </thead>\n",
       "  <tbody>\n",
       "    <tr>\n",
       "      <th>0</th>\n",
       "      <td>Alex</td>\n",
       "      <td>123457</td>\n",
       "      <td>2012-10-12</td>\n",
       "      <td>2012-10-13</td>\n",
       "      <td>MVD</td>\n",
       "      <td>Paul</td>\n",
       "      <td>SA</td>\n",
       "      <td>USA</td>\n",
       "      <td>1987-03-06</td>\n",
       "      <td>A</td>\n",
       "    </tr>\n",
       "    <tr>\n",
       "      <th>1</th>\n",
       "      <td>Jacob</td>\n",
       "      <td>1256</td>\n",
       "      <td>2012-10-12</td>\n",
       "      <td>2012-10-13</td>\n",
       "      <td>MVD</td>\n",
       "      <td></td>\n",
       "      <td>VIC</td>\n",
       "      <td>AU</td>\n",
       "      <td>1987-03-06</td>\n",
       "      <td>A</td>\n",
       "    </tr>\n",
       "    <tr>\n",
       "      <th>2</th>\n",
       "      <td>Jhon</td>\n",
       "      <td>123458</td>\n",
       "      <td>2012-10-12</td>\n",
       "      <td>2012-10-13</td>\n",
       "      <td>MVD</td>\n",
       "      <td></td>\n",
       "      <td>TN</td>\n",
       "      <td>IND</td>\n",
       "      <td>1987-03-06</td>\n",
       "      <td>A</td>\n",
       "    </tr>\n",
       "    <tr>\n",
       "      <th>3</th>\n",
       "      <td>Mathew</td>\n",
       "      <td>123459</td>\n",
       "      <td>2012-10-12</td>\n",
       "      <td>2012-10-13</td>\n",
       "      <td>MVD</td>\n",
       "      <td></td>\n",
       "      <td>WAS</td>\n",
       "      <td>PHIL</td>\n",
       "      <td>1987-03-06</td>\n",
       "      <td>A</td>\n",
       "    </tr>\n",
       "    <tr>\n",
       "      <th>4</th>\n",
       "      <td>Matt</td>\n",
       "      <td>12345</td>\n",
       "      <td>2012-10-12</td>\n",
       "      <td>2012-10-13</td>\n",
       "      <td>MVD</td>\n",
       "      <td></td>\n",
       "      <td>BOS</td>\n",
       "      <td>NYC</td>\n",
       "      <td>1987-03-06</td>\n",
       "      <td>A</td>\n",
       "    </tr>\n",
       "  </tbody>\n",
       "</table>\n",
       "</div>"
      ],
      "text/plain": [
       "  CUSTOMER_NAME CUSTOMER_ID CUSTOMER_OPEN_DATE LAST_CONSULTED_DATE  \\\n",
       "0          Alex      123457         2012-10-12          2012-10-13   \n",
       "1         Jacob        1256         2012-10-12          2012-10-13   \n",
       "2          Jhon      123458         2012-10-12          2012-10-13   \n",
       "3        Mathew      123459         2012-10-12          2012-10-13   \n",
       "4          Matt       12345         2012-10-12          2012-10-13   \n",
       "\n",
       "  VACCINATION_TYPE DOCTOR_CONSULTED STATE COUNTRY         DOB FLAG  \n",
       "0              MVD             Paul    SA     USA  1987-03-06    A  \n",
       "1              MVD                    VIC      AU  1987-03-06    A  \n",
       "2              MVD                     TN     IND  1987-03-06    A  \n",
       "3              MVD                    WAS    PHIL  1987-03-06    A  \n",
       "4              MVD                    BOS     NYC  1987-03-06    A  "
      ]
     },
     "execution_count": 78,
     "metadata": {},
     "output_type": "execute_result"
    }
   ],
   "source": [
    "df"
   ]
  },
  {
   "cell_type": "code",
   "execution_count": 81,
   "id": "554a2e2e",
   "metadata": {},
   "outputs": [],
   "source": [
    "def show_data(country):\n",
    "    data = df.loc[df['COUNTRY'] == country]\n",
    "    print(data)"
   ]
  },
  {
   "cell_type": "code",
   "execution_count": 87,
   "id": "09f90a98",
   "metadata": {},
   "outputs": [],
   "source": [
    "def get_file(country):\n",
    "    data = df.loc[df['COUNTRY'] == country]\n",
    "    file_name = str(country)\n",
    "    data.to_csv('C:/Users/prate/Table_' + country + \".csv\")  # replace path with your desired path\n",
    "    print(\"File has been created to the specified path\")"
   ]
  },
  {
   "cell_type": "code",
   "execution_count": 88,
   "id": "693b1e98",
   "metadata": {
    "scrolled": true
   },
   "outputs": [
    {
     "name": "stdout",
     "output_type": "stream",
     "text": [
      "  CUSTOMER_NAME CUSTOMER_ID CUSTOMER_OPEN_DATE LAST_CONSULTED_DATE  \\\n",
      "2          Jhon      123458         2012-10-12          2012-10-13   \n",
      "\n",
      "  VACCINATION_TYPE DOCTOR_CONSULTED STATE COUNTRY         DOB FLAG  \n",
      "2              MVD                     TN     IND  1987-03-06    A  \n",
      "File has been created to the specified path\n"
     ]
    }
   ],
   "source": [
    "# calling functions\n",
    "\n",
    "df1= show_data(\"IND\")\n",
    "get_file(\"IND\")"
   ]
  },
  {
   "cell_type": "code",
   "execution_count": 92,
   "id": "8a31afc5",
   "metadata": {},
   "outputs": [
    {
     "name": "stdout",
     "output_type": "stream",
     "text": [
      "\n"
     ]
    }
   ],
   "source": [
    "# displaying the DataFrame in table\n",
    "from tabulate import tabulate\n",
    "print(tabulate(df1, headers = 'keys', tablefmt = 'sql'))"
   ]
  },
  {
   "cell_type": "code",
   "execution_count": 93,
   "id": "677a7316",
   "metadata": {},
   "outputs": [
    {
     "name": "stdout",
     "output_type": "stream",
     "text": [
      "Empty DataFrame\n",
      "Columns: [CUSTOMER_NAME, CUSTOMER_ID, CUSTOMER_OPEN_DATE, LAST_CONSULTED_DATE, VACCINATION_TYPE, DOCTOR_CONSULTED, STATE, COUNTRY, DOB, FLAG]\n",
      "Index: []\n",
      "File has been created to the specified path\n"
     ]
    }
   ],
   "source": [
    "show_data(\"AUS\")\n",
    "get_file(\"AUS\")"
   ]
  },
  {
   "cell_type": "code",
   "execution_count": null,
   "id": "e534f09c",
   "metadata": {},
   "outputs": [],
   "source": []
  }
 ],
 "metadata": {
  "kernelspec": {
   "display_name": "Python 3 (ipykernel)",
   "language": "python",
   "name": "python3"
  },
  "language_info": {
   "codemirror_mode": {
    "name": "ipython",
    "version": 3
   },
   "file_extension": ".py",
   "mimetype": "text/x-python",
   "name": "python",
   "nbconvert_exporter": "python",
   "pygments_lexer": "ipython3",
   "version": "3.8.8"
  }
 },
 "nbformat": 4,
 "nbformat_minor": 5
}
